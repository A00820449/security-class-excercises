{
 "cells": [
  {
   "cell_type": "code",
   "execution_count": 14,
   "metadata": {},
   "outputs": [
    {
     "data": {
      "text/plain": [
       "'\\nMiguel Angel Tornero Carrillo A00820449\\n'"
      ]
     },
     "execution_count": 14,
     "metadata": {},
     "output_type": "execute_result"
    }
   ],
   "source": [
    "'''\n",
    "Miguel Angel Tornero Carrillo A00820449\n",
    "'''"
   ]
  },
  {
   "cell_type": "code",
   "execution_count": 15,
   "metadata": {},
   "outputs": [],
   "source": [
    "#Public Key imports\n",
    "from Cryptodome.PublicKey import RSA\n",
    "from Cryptodome.Cipher import PKCS1_OAEP\n",
    "import binascii\n",
    "\n",
    "#Digital signature imports\n",
    "from Cryptodome.Signature import pkcs1_15\n",
    "from Cryptodome.Hash import SHA256\n",
    "\n",
    "#To decode bytstreams into characters\n",
    "from base64 import b64encode"
   ]
  },
  {
   "cell_type": "code",
   "execution_count": 16,
   "metadata": {},
   "outputs": [
    {
     "name": "stdout",
     "output_type": "stream",
     "text": [
      "Public key:  (n=0x930d220d205a739748ad488ab4a7a13814813198e9ee26f56e8a4ca9467abcd9ab8cef7091184bacfee4c3235a1e3e9a71fffc0f813d7218abb23eec5ad7f7e273e78ba0c4c5015f8aa57ac358884164ddebc383f0e476afc6176f18de4d7cdcc47d113c2b2e494470a1283d99347508c9a35688feff58a99ad01e9e4cf2126b, e=0x10001)\n",
      "Private key: (n=0x930d220d205a739748ad488ab4a7a13814813198e9ee26f56e8a4ca9467abcd9ab8cef7091184bacfee4c3235a1e3e9a71fffc0f813d7218abb23eec5ad7f7e273e78ba0c4c5015f8aa57ac358884164ddebc383f0e476afc6176f18de4d7cdcc47d113c2b2e494470a1283d99347508c9a35688feff58a99ad01e9e4cf2126b, d=0x7db4c45f24412e7f2d09b4f19ded8ecc39fb1742f8f73526aa105fe874ef87712c4d96824c06d0ea5a1b85153b7c8f57c80c64957c8de27364934367196175ed3ba74495d5647bb7bdf1aad2c7a8cd5ff37a3300833fb6e702bf8e00b75c2b52888ae2979613a9adf7f3839755a7d4954ebe36af116b4b9ca753372d8585099)\n"
     ]
    }
   ],
   "source": [
    "#Assume these keys where generated before hand and public transmitted\n",
    "#Generating public and private keys to encrypt the session keys\n",
    "keyPair = RSA.generate(1024)\n",
    "\n",
    "pubKey = keyPair.publickey()\n",
    "print(f\"Public key:  (n={hex(pubKey.n)}, e={hex(pubKey.e)})\")\n",
    "\n",
    "pubKeyPEM = pubKey.exportKey()\n",
    "\n",
    "print(f\"Private key: (n={hex(pubKey.n)}, d={hex(keyPair.d)})\")\n",
    "privKeyPEM = keyPair.exportKey()"
   ]
  },
  {
   "cell_type": "code",
   "execution_count": 17,
   "metadata": {},
   "outputs": [
    {
     "name": "stdout",
     "output_type": "stream",
     "text": [
      "b'o}`\\xaeku\\xccs?+\\x18%wR\\xf9\\xc7\\x88:\\x99\\xfc\"U\\x1bw$\\xbf\\xa5W\\xf4\\xee@e\\xe8\\xa0\\x05\\xad\\xee\\xf0\\xd8\\xe7UZ\\x95\\xc9\\xd0v^1i\\xef)o \\x97\\x18j\\xc2h\\x06\\xfe\\x13\\xed\\xeeG\\x1c\\xbe\\xa5\\xd8q\\xeb\\x11-\\x0b\\xc4\\x98G\\x8e\\x17\\x85]\\xa0\\xa0\\xba5\\xf6\\xde\\xf9\\x19\\xc1\\xa6A\\xc1:\\xd2n\\x86\\x0280\\xb4\\x8f\\xab\\x15\\xcd\\rH(_Sg\\xd4p\\xd4,Y\\xce\\xbc\\xd7\\xb2\\x81\\x92]\\x8e\\xce\\xc9\\xc4\\xc8\\x80'\n",
      "128\n"
     ]
    }
   ],
   "source": [
    "#Sign with private key message to transmit\n",
    "text = b'Another message'\n",
    "h = SHA256.new(text)\n",
    "signature = pkcs1_15.new(keyPair).sign(h)\n",
    "print(signature)\n",
    "print(len(signature))\n",
    "msg = signature + text"
   ]
  },
  {
   "cell_type": "code",
   "execution_count": 18,
   "metadata": {},
   "outputs": [
    {
     "name": "stdout",
     "output_type": "stream",
     "text": [
      "The signature is valid\n"
     ]
    }
   ],
   "source": [
    "#At reciever end verify signature of recieved message with public key\n",
    "newsignature = msg[:128]\n",
    "newtext = msg[128:]\n",
    "newPubkey = RSA.import_key(pubKeyPEM)\n",
    "h = SHA256.new(newtext)\n",
    "try:\n",
    "    pkcs1_15.new(newPubkey).verify(h, newsignature)\n",
    "    print(\"The signature is valid\")\n",
    "except (ValueError, TypeError):\n",
    "   print(\"The signature is not valid\")"
   ]
  },
  {
   "cell_type": "code",
   "execution_count": null,
   "metadata": {},
   "outputs": [],
   "source": []
  }
 ],
 "metadata": {
  "kernelspec": {
   "display_name": "Python 3.10.7 64-bit",
   "language": "python",
   "name": "python3"
  },
  "language_info": {
   "codemirror_mode": {
    "name": "ipython",
    "version": 3
   },
   "file_extension": ".py",
   "mimetype": "text/x-python",
   "name": "python",
   "nbconvert_exporter": "python",
   "pygments_lexer": "ipython3",
   "version": "3.10.7"
  },
  "vscode": {
   "interpreter": {
    "hash": "e7370f93d1d0cde622a1f8e1c04877d8463912d04d973331ad4851f04de6915a"
   }
  }
 },
 "nbformat": 4,
 "nbformat_minor": 2
}
