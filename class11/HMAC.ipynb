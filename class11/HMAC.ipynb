{
 "cells": [
  {
   "cell_type": "code",
   "execution_count": 11,
   "metadata": {},
   "outputs": [
    {
     "data": {
      "text/plain": [
       "'\\nMiguel Angel Tornero Carrillo A00820449\\n'"
      ]
     },
     "execution_count": 11,
     "metadata": {},
     "output_type": "execute_result"
    }
   ],
   "source": [
    "'''\n",
    "Miguel Angel Tornero Carrillo A00820449\n",
    "'''"
   ]
  },
  {
   "cell_type": "code",
   "execution_count": 12,
   "metadata": {},
   "outputs": [],
   "source": [
    "#Hash imports\n",
    "from Cryptodome.Hash import HMAC, SHA256\n",
    "\n",
    "#To decode bytstreams into characters\n",
    "from base64 import b64encode"
   ]
  },
  {
   "cell_type": "code",
   "execution_count": 13,
   "metadata": {},
   "outputs": [
    {
     "name": "stdout",
     "output_type": "stream",
     "text": [
      "222403f11fe63571ff580c28e3fb6fda6cf8ca59575f91513b7b13a148ec5f7f\n",
      "IiQD8R/mNXH/WAwo4/tv2mz4yllXX5FRO3sToUjsX38=\n",
      "digest length 32\n"
     ]
    }
   ],
   "source": [
    "#Password to use to authentica message\n",
    "secret = b'My very secret secret'\n",
    "#Message to transmit and authenticate\n",
    "stext = b'My very secret message'\n",
    "\n",
    "#Create message digest h with password\n",
    "h = HMAC.new(secret, digestmod=SHA256)\n",
    "h.update(stext)\n",
    "smac=h.digest()\n",
    "\n",
    "#Show digest\n",
    "print(h.hexdigest())\n",
    "hd = b64encode(smac).decode('ascii')\n",
    "print(hd)\n",
    "print(\"digest length\",len(h.digest()))\n",
    "msg = smac +  stext"
   ]
  },
  {
   "cell_type": "code",
   "execution_count": 14,
   "metadata": {},
   "outputs": [
    {
     "name": "stdout",
     "output_type": "stream",
     "text": [
      "IiQD8R/mNXH/WAwo4/tv2mz4yllXX5FRO3sToUjsX38=\n",
      "b'My very secret message'\n"
     ]
    }
   ],
   "source": [
    "# We have received a message 'msg' with rtext together\n",
    "# with its MAC 'rmac'\n",
    "rmac = msg[:32]\n",
    "rtext = msg[32:]\n",
    "hd = b64encode(rmac).decode('ascii')\n",
    "print(hd)\n",
    "print(rtext)"
   ]
  },
  {
   "cell_type": "code",
   "execution_count": 15,
   "metadata": {},
   "outputs": [
    {
     "name": "stdout",
     "output_type": "stream",
     "text": [
      "The message 'b'My very secret message'' is authentic\n"
     ]
    }
   ],
   "source": [
    "#Authentica message using password\n",
    "secret = b'My very secret secret'\n",
    "\n",
    "h = HMAC.new(secret, digestmod=SHA256)\n",
    "h.update(rtext)\n",
    "try:\n",
    "  h.verify(rmac)\n",
    "  print(\"The message '%s' is authentic\" % rtext)\n",
    "except ValueError:\n",
    "  print(\"The message or the key is wrong\")"
   ]
  },
  {
   "cell_type": "code",
   "execution_count": null,
   "metadata": {},
   "outputs": [],
   "source": []
  }
 ],
 "metadata": {
  "kernelspec": {
   "display_name": "Python 3.10.7 64-bit",
   "language": "python",
   "name": "python3"
  },
  "language_info": {
   "codemirror_mode": {
    "name": "ipython",
    "version": 3
   },
   "file_extension": ".py",
   "mimetype": "text/x-python",
   "name": "python",
   "nbconvert_exporter": "python",
   "pygments_lexer": "ipython3",
   "version": "3.10.7"
  },
  "vscode": {
   "interpreter": {
    "hash": "e7370f93d1d0cde622a1f8e1c04877d8463912d04d973331ad4851f04de6915a"
   }
  }
 },
 "nbformat": 4,
 "nbformat_minor": 2
}
