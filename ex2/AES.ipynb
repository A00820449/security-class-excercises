{
 "cells": [
  {
   "cell_type": "code",
   "execution_count": 1,
   "metadata": {},
   "outputs": [
    {
     "data": {
      "text/plain": [
       "'\\nBy Raul Ramirez Velarde\\nAug 2020\\nFrom multiples sources\\n'"
      ]
     },
     "execution_count": 1,
     "metadata": {},
     "output_type": "execute_result"
    }
   ],
   "source": [
    "\"\"\"\n",
    "By Raul Ramirez Velarde\n",
    "Aug 2020\n",
    "From multiples sources\n",
    "\"\"\""
   ]
  },
  {
   "cell_type": "code",
   "execution_count": 2,
   "metadata": {},
   "outputs": [],
   "source": [
    "#!pip install pycryptodome"
   ]
  },
  {
   "cell_type": "code",
   "execution_count": 3,
   "metadata": {},
   "outputs": [],
   "source": [
    "#Encrytion imports\n",
    "from Cryptodome.Cipher import AES\n",
    "from Cryptodome.Random import get_random_bytes\n",
    "from base64 import b64encode"
   ]
  },
  {
   "cell_type": "code",
   "execution_count": 4,
   "metadata": {},
   "outputs": [],
   "source": [
    "#Message to encrypt and send\n",
    "#plaintext = b'Text for encrypt'\n",
    "#plaintext = b'Today is thursday'\n",
    "#plaintext = b'Text for encryption but much longer'\n",
    "#plaintext = b'hello world 1234'\n",
    "plaintext = b'No me mueve mi Dios para quererte, el cielo que me tienes prometido. Ni me mueve el infierno tan temido, para dejar por eso de ofenderte        '\n",
    "#plaintext = b'No me mueve mi Dios para quererte, el cielo que me tienes prometido. Ni me mueve el infierno tan temido, para dejar por eso de ofenderte'\n",
    "\n",
    "#key to encrypt\n",
    "#key = get_random_bytes(16)\n",
    "#key = b'Sixteen byte key'\n",
    "#key = b'this is my new k'\n",
    "#Double key\n",
    "key = b'Sixteen byte keySixteen byte key'"
   ]
  },
  {
   "cell_type": "code",
   "execution_count": 5,
   "metadata": {},
   "outputs": [
    {
     "name": "stdout",
     "output_type": "stream",
     "text": [
      "32\n"
     ]
    }
   ],
   "source": [
    "print(len(key))"
   ]
  },
  {
   "cell_type": "code",
   "execution_count": 6,
   "metadata": {},
   "outputs": [
    {
     "name": "stdout",
     "output_type": "stream",
     "text": [
      "b'\\x820q\\xe8\\xc5[[\\xf1\\xb4\\x8c\\x16\\x0e\\x10Txl\\xed\\x11\\xd0\\xb3\\xc1R\\x1e[p\\x9f\\x088\\x96\\xcf\\x07u\\xa8_`\\x80q\\xa2\\xdf\\x0c^\\x91)\\x81\\xbb\\xda\\x99\\x14\\xd0\\xfd\\xae\\x7f\\xfd\\xd3\\x9bj-\\x18e\\xa2\\xc3\\x18\\t\\x1e\\x0c\\xe3\\x80\\x9a\\x01\\x82\\x00.\\rV\\xd6\\x10\\xbf\\xfe\\xb4\\xea\\x95\\x1f\\'=:\\xb6\\xf4\\x8e\\xf8\\x0boA@\\xc5m\\xf3\\xd3\\x99\\xd1\\xd9\\xbbahD$k\\xfc\\xe8\"-\\x0b\\x17X;)>\\xd2/\\xb8{\\x00Y\\x9b\\x10\\xbb\\xe0|#\\xa91\\xeb\\x0bFT\\xb6XkNS\\nNr\\xad\\xf9'\n",
      "16\n"
     ]
    }
   ],
   "source": [
    "#Using a block cipher\n",
    "#Sending end\n",
    "cipher = AES.new(key, AES.MODE_EAX)\n",
    "\n",
    "ciphertext = cipher.encrypt(plaintext)\n",
    "\n",
    "nonce = cipher.nonce\n",
    "print(ciphertext)\n",
    "msg = nonce + ciphertext\n",
    "print(len(nonce))"
   ]
  },
  {
   "cell_type": "code",
   "execution_count": 7,
   "metadata": {},
   "outputs": [
    {
     "name": "stdout",
     "output_type": "stream",
     "text": [
      "PSHRB4tnCAq9mhNvF4QTjg==\n"
     ]
    }
   ],
   "source": [
    "#Decode nonce just to show\n",
    "dcnonce = b64encode(nonce).decode('utf-8')\n",
    "print(dcnonce)"
   ]
  },
  {
   "cell_type": "code",
   "execution_count": 8,
   "metadata": {},
   "outputs": [
    {
     "name": "stdout",
     "output_type": "stream",
     "text": [
      "gjBx6MVbW/G0jBYOEFR4bO0R0LPBUh5bcJ8IOJbPB3WoX2CAcaLfDF6RKYG72pkU0P2uf/3Tm2otGGWiwxgJHgzjgJoBggAuDVbWEL/+tOqVHyc9Orb0jvgLb0FAxW3z05nR2bthaEQka/zoIi0LF1g7KT7SL7h7AFmbELvgfCOpMesLRlS2WGtOUwpOcq35\n"
     ]
    }
   ],
   "source": [
    "#Show encrypted text\n",
    "dcciphered = b64encode(ciphertext).decode('utf-8')\n",
    "print(dcciphered)"
   ]
  },
  {
   "cell_type": "code",
   "execution_count": 9,
   "metadata": {},
   "outputs": [],
   "source": [
    "newnonce = msg[:16]\n",
    "newciphertext = msg[16:]"
   ]
  },
  {
   "cell_type": "code",
   "execution_count": 10,
   "metadata": {},
   "outputs": [
    {
     "name": "stdout",
     "output_type": "stream",
     "text": [
      "b'No me mueve mi Dios para quererte, el cielo que me tienes prometido. Ni me mueve el infierno tan temido, para dejar por eso de ofenderte        '\n"
     ]
    }
   ],
   "source": [
    "#Recieving end decodes. Assume secret key has been transmitted\n",
    "decipher = AES.new(key, AES.MODE_EAX,nonce=newnonce)\n",
    "\n",
    "decrypted = decipher.decrypt(newciphertext)\n",
    "print(decrypted)"
   ]
  },
  {
   "cell_type": "code",
   "execution_count": 11,
   "metadata": {},
   "outputs": [
    {
     "name": "stdout",
     "output_type": "stream",
     "text": [
      "b'%\\xc9\\xe7[\\xd2p\\xc1\\xce\\xe8\\x11U\\xd4\\x03\\xac\\x07\\xabD\\x15\\x05\\xf7\\xc4\\xf8k\\x08\\x7fe\\x8al\\xc2\\xc9\\xfa\\x16,%\\x8c\\xf2\"\\x06\\x80\\xe0\\x19\\xeeN\\xe0%7f\\xca\\x87\\x17\\x944\\xed=\\x96}L\\x94\\xe4\\xa5\\x12z\\xf9\\xb2\\x11\\xc5\\xed\\xe5H\\xf5\\xb6\\x99%>P\\x0ej\\x19J\\x93vi\\xab\\xfe\\x1d\\x9d\\xff-+6\\x86agi)]\\xd8\\xc5\\x05\\x15:\\xdc\\xa6\\xa8p|gH.\\xa5\\xee\\x85\\xf2\\xcd\\xb0\\xaf\\xfb\\x1b\\xee\\x03Z[Z\\xdb\\xa3\\x0c\\x17\\xf22\\t\\x1a\\xafM3r\\xb5\\'\\xf4\\xcdJ\\xd4\\xeaW\\xd4'\n"
     ]
    }
   ],
   "source": [
    "#Lets encrypt and create a digest to verify\n",
    "cipher = AES.new(key, AES.MODE_EAX)\n",
    "\n",
    "ciphertext, tag = cipher.encrypt_and_digest(plaintext)\n",
    "nonce = cipher.nonce\n",
    "print(ciphertext)"
   ]
  },
  {
   "cell_type": "code",
   "execution_count": 12,
   "metadata": {},
   "outputs": [
    {
     "name": "stdout",
     "output_type": "stream",
     "text": [
      "The message is authentic: b'No me mueve mi Dios para quererte, el cielo que me tienes prometido. Ni me mueve el infierno tan temido, para dejar por eso de ofenderte        '\n",
      "b'No me mueve mi Dios para quererte, el cielo que me tienes prometido. Ni me mueve el infierno tan temido, para dejar por eso de ofenderte        '\n"
     ]
    }
   ],
   "source": [
    "#Decipher and verify authenticity\n",
    "#decipher = AES.new(key, AES.MODE_CBC)\n",
    "decipher = AES.new(key, AES.MODE_EAX,nonce=nonce)\n",
    "decrypted = decipher.decrypt(ciphertext)\n",
    "try:\n",
    "    decipher.verify(tag)\n",
    "    print(\"The message is authentic:\", plaintext)\n",
    "except ValueError:\n",
    "    print(\"Key incorrect or message corrupted\")\n",
    "#print(str(decrypted))\n",
    "print(decrypted)"
   ]
  },
  {
   "cell_type": "code",
   "execution_count": 13,
   "metadata": {},
   "outputs": [
    {
     "name": "stdout",
     "output_type": "stream",
     "text": [
      "The message is authentic: b'No me mueve mi Dios para quererte, el cielo que me tienes prometido. Ni me mueve el infierno tan temido, para dejar por eso de ofenderte        '\n",
      "b'No me mueve mi Dios para quererte, el cielo que me tienes prometido. Ni me mueve el infierno tan temido, para dejar por eso de ofenderte        '\n"
     ]
    }
   ],
   "source": [
    "#Decipher and verify authenticity\n",
    "decipher = AES.new(key, AES.MODE_EAX,nonce=nonce)\n",
    "\n",
    "try:\n",
    "    decrypted = decipher.decrypt_and_verify(ciphertext,tag)\n",
    "    print(\"The message is authentic:\", plaintext)\n",
    "except ValueError:\n",
    "    print(\"Key incorrect or message corrupted\")\n",
    "print(decrypted)"
   ]
  },
  {
   "cell_type": "code",
   "execution_count": null,
   "metadata": {},
   "outputs": [],
   "source": []
  }
 ],
 "metadata": {
  "kernelspec": {
   "display_name": "Python 3.10.6 64-bit",
   "language": "python",
   "name": "python3"
  },
  "language_info": {
   "codemirror_mode": {
    "name": "ipython",
    "version": 3
   },
   "file_extension": ".py",
   "mimetype": "text/x-python",
   "name": "python",
   "nbconvert_exporter": "python",
   "pygments_lexer": "ipython3",
   "version": "3.10.6"
  },
  "vscode": {
   "interpreter": {
    "hash": "e7370f93d1d0cde622a1f8e1c04877d8463912d04d973331ad4851f04de6915a"
   }
  }
 },
 "nbformat": 4,
 "nbformat_minor": 2
}
