{
 "cells": [
  {
   "cell_type": "code",
   "execution_count": 1,
   "metadata": {},
   "outputs": [
    {
     "data": {
      "text/plain": [
       "'\\nBy Raul Ramirez Velarde\\nAug 2020\\nFrom multiples sources\\n'"
      ]
     },
     "execution_count": 1,
     "metadata": {},
     "output_type": "execute_result"
    }
   ],
   "source": [
    "\"\"\"\n",
    "By Raul Ramirez Velarde\n",
    "Aug 2020\n",
    "From multiples sources\n",
    "\"\"\""
   ]
  },
  {
   "cell_type": "code",
   "execution_count": 2,
   "metadata": {},
   "outputs": [],
   "source": [
    "#Public Key imports\n",
    "from Cryptodome.PublicKey import RSA\n",
    "from Cryptodome.Cipher import PKCS1_OAEP\n",
    "import binascii\n",
    "\n",
    "#Digital signature imports\n",
    "from Cryptodome.Signature import pkcs1_15\n",
    "from Cryptodome.Hash import SHA256\n",
    "\n",
    "#To decode bytstreams into characters\n",
    "from base64 import b64encode"
   ]
  },
  {
   "cell_type": "code",
   "execution_count": 3,
   "metadata": {},
   "outputs": [
    {
     "name": "stdout",
     "output_type": "stream",
     "text": [
      "Public key:  (n=0x9775ad05b3f27eb4521c6511862cf67ccc2206ab1e834ab0da3ced461526c781a766dd9f3cbfdc1bdc98ef5068bea10a11003506022d6b217b40f5a12c7d6cba5072099d0222fa7e767724652b2eebbfa3ede70f83b9af120deaccab8fafd216982d8da3d54a5047dc3aaacaa1460bc9b4bdb1d1a08f4ba9ced74256aa47bdd5, e=0x10001)\n",
      "Private key: (n=0x9775ad05b3f27eb4521c6511862cf67ccc2206ab1e834ab0da3ced461526c781a766dd9f3cbfdc1bdc98ef5068bea10a11003506022d6b217b40f5a12c7d6cba5072099d0222fa7e767724652b2eebbfa3ede70f83b9af120deaccab8fafd216982d8da3d54a5047dc3aaacaa1460bc9b4bdb1d1a08f4ba9ced74256aa47bdd5, d=0x4ec065027e1a2c3f5e225d7acb253dd48ddf73502e415de8aed0d71e8588f05b3dcb82987561dcf4afb2e55c0dda70a96745904c5b7d7a22a28f98280196059ddd9ec9d3dd33c531f5cdfa6d2bab8c0b0b3b80ccaecdf43bad014880fbc4d0264f5fa5d6844764ada35e734a3be9ca058ed27b47cd3a1d766e3ea1692732909)\n"
     ]
    }
   ],
   "source": [
    "#Assume these keys where generated before hand and public transmitted\n",
    "#Generating public and private keys to encrypt the session keys\n",
    "keyPair = RSA.generate(1024)\n",
    "\n",
    "pubKey = keyPair.publickey()\n",
    "print(f\"Public key:  (n={hex(pubKey.n)}, e={hex(pubKey.e)})\")\n",
    "\n",
    "pubKeyPEM = pubKey.exportKey()\n",
    "\n",
    "print(f\"Private key: (n={hex(pubKey.n)}, d={hex(keyPair.d)})\")\n",
    "privKeyPEM = keyPair.exportKey()"
   ]
  },
  {
   "cell_type": "code",
   "execution_count": 4,
   "metadata": {},
   "outputs": [
    {
     "name": "stdout",
     "output_type": "stream",
     "text": [
      "b'~\\x138]\\xfa\\xa4;\\xaaj\\xe4\\x00\\xec\\x95\\x80\\xf1\\x0c\\xc4\\xadh5PL\\xf8Q#\\x8c\\xa5\\x8c\\xf2\\x07%}\\x93c\\x85gf\\xcb\\xb4\\xb9\\xcc\\x1d\\x83\\xd6\\xcah\\xa3{\\x8d\\xf1\\x1c\\xed\\x13\\x0b\\x06-\\xe3\\xd9\\x82\\xb1re\\xa3\\x19\\xf9\\xa6\\x93h99\\x18cf\\xe5+~\\x84\\x86\\xe2\\x08s\\xd6\\xd4{ \\xd3\\xf2\\xa6?gW\\xe2\\x19<N\\xe0a}@\\xdc0\\xcf;\"\\xb1\\x18\\xfelt&2\\xb2/+x\\x87\\xd9e\\\\\\xe1\\x12\\xa7\\xfd\\xfd|\\xc5c\\x16'\n",
      "128\n"
     ]
    },
    {
     "ename": "NameError",
     "evalue": "name 'message' is not defined",
     "output_type": "error",
     "traceback": [
      "\u001b[0;31m---------------------------------------------------------------------------\u001b[0m",
      "\u001b[0;31mNameError\u001b[0m                                 Traceback (most recent call last)",
      "Cell \u001b[0;32mIn [4], line 7\u001b[0m\n\u001b[1;32m      5\u001b[0m \u001b[39mprint\u001b[39m(signature)\n\u001b[1;32m      6\u001b[0m \u001b[39mprint\u001b[39m(\u001b[39mlen\u001b[39m(signature))\n\u001b[0;32m----> 7\u001b[0m msg \u001b[39m=\u001b[39m signature \u001b[39m+\u001b[39m message\n",
      "\u001b[0;31mNameError\u001b[0m: name 'message' is not defined"
     ]
    }
   ],
   "source": [
    "#Sign with private key message to transmit\n",
    "text = b'To be signed'\n",
    "h = SHA256.new(text)\n",
    "signature = pkcs1_15.new(keyPair).sign(h)\n",
    "print(signature)\n",
    "print(len(signature))\n",
    "msg = signature + message"
   ]
  },
  {
   "cell_type": "code",
   "execution_count": null,
   "metadata": {},
   "outputs": [
    {
     "name": "stdout",
     "output_type": "stream",
     "text": [
      "The signature is valid\n"
     ]
    }
   ],
   "source": [
    "#At reciever end verify signature of recieved message with public key\n",
    "newsignature = msg[:128]\n",
    "newtext = msg[128:]\n",
    "newPubkey = RSA.import_key(pubKeyPEM)\n",
    "h = SHA256.new(newtext)\n",
    "try:\n",
    "    pkcs1_15.new(newPubkey).verify(h, newsignature)\n",
    "    print(\"The signature is valid\")\n",
    "except (ValueError, TypeError):\n",
    "   print(\"The signature is not valid\")"
   ]
  },
  {
   "cell_type": "code",
   "execution_count": null,
   "metadata": {},
   "outputs": [],
   "source": []
  }
 ],
 "metadata": {
  "kernelspec": {
   "display_name": "Python 3.10.7 64-bit",
   "language": "python",
   "name": "python3"
  },
  "language_info": {
   "codemirror_mode": {
    "name": "ipython",
    "version": 3
   },
   "file_extension": ".py",
   "mimetype": "text/x-python",
   "name": "python",
   "nbconvert_exporter": "python",
   "pygments_lexer": "ipython3",
   "version": "3.10.7"
  },
  "vscode": {
   "interpreter": {
    "hash": "e7370f93d1d0cde622a1f8e1c04877d8463912d04d973331ad4851f04de6915a"
   }
  }
 },
 "nbformat": 4,
 "nbformat_minor": 2
}
