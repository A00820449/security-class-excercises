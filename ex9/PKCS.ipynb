{
 "cells": [
  {
   "cell_type": "code",
   "execution_count": null,
   "metadata": {},
   "outputs": [],
   "source": [
    "\"\"\"\n",
    "By Raul Ramirez Velarde\n",
    "Aug 2020\n",
    "From multiples sources\n",
    "\"\"\""
   ]
  },
  {
   "cell_type": "code",
   "execution_count": 2,
   "metadata": {},
   "outputs": [],
   "source": [
    "#Public Key imports\n",
    "from Crypto.PublicKey import RSA\n",
    "from Crypto.Cipher import PKCS1_OAEP\n",
    "import binascii\n",
    "\n",
    "#Digital signature imports\n",
    "from Crypto.Signature import pkcs1_15\n",
    "from Crypto.Hash import SHA256\n",
    "\n",
    "#To decode bytstreams into characters\n",
    "from base64 import b64encode"
   ]
  },
  {
   "cell_type": "code",
   "execution_count": 3,
   "metadata": {},
   "outputs": [
    {
     "name": "stdout",
     "output_type": "stream",
     "text": [
      "Public key:  (n=0xa9b900371b5cc9bb7504e9ccc04b9520d18df769f616c7257a88a4b606455a8d56906ef213376a543878cceb4ded8020e9f817d02de8ff79de36e721ff1054ae77a89335032a5e0a9fc79931a1be17b7e6f200ff3c3c23cfc31611459b11e640bc9b5bfab3109a92959e91fc1899b980b1cf00042379d54799735550df0102f5, e=0x10001)\n",
      "Private key: (n=0xa9b900371b5cc9bb7504e9ccc04b9520d18df769f616c7257a88a4b606455a8d56906ef213376a543878cceb4ded8020e9f817d02de8ff79de36e721ff1054ae77a89335032a5e0a9fc79931a1be17b7e6f200ff3c3c23cfc31611459b11e640bc9b5bfab3109a92959e91fc1899b980b1cf00042379d54799735550df0102f5, d=0xa675e1802aeb6bf02f6ab78f2f604778a8b9aa052dc254100388d6ae05f87f97a00f336c0eece0473a1beb8a8823d2f1ca87f4287a34210850aa08878f62b4ff233781489aee556db98180725a10ef26fae980eae0fb19f566eb7979f5854490fc21f87b51b7364838bb2bda1fd90f5d623520e570a520d2ce932446b0c7f1)\n"
     ]
    }
   ],
   "source": [
    "#Assume these keys where generated before hand and public transmitted\n",
    "#Generating public and private keys to encrypt the session keys\n",
    "keyPair = RSA.generate(1024)\n",
    "\n",
    "pubKey = keyPair.publickey()\n",
    "print(f\"Public key:  (n={hex(pubKey.n)}, e={hex(pubKey.e)})\")\n",
    "\n",
    "pubKeyPEM = pubKey.exportKey()\n",
    "\n",
    "print(f\"Private key: (n={hex(pubKey.n)}, d={hex(keyPair.d)})\")\n",
    "privKeyPEM = keyPair.exportKey()"
   ]
  },
  {
   "cell_type": "code",
   "execution_count": 8,
   "metadata": {},
   "outputs": [
    {
     "name": "stdout",
     "output_type": "stream",
     "text": [
      "b'%\\xfcz\\xdb\\xe7\\xa2F\\x1f\\xcck\\x16f\\x87\\xc5\\x95\\x9d\\x94\\x18R\\x9c\\xc9\\x99v\\xdc\\xca5\\xd1 \\xc9\\x11\\xe5\\xa9\\x80w\\xac*\\xe9i.\\x19\\xa5x\\xb1\\x14\\xcd\\xc8\\xd3\\x8b\\x19\\xa6a\\x13Y;:_S\\xa4\\x81v\\xcf\\xe2\\xa0\\x056\\xd1\\xc1\\xe7\\x85\\xad\\x13\\x1e\\xf4xE@A\\xa6\\xf9\\xff\\x1d\\x0e\\xc0W\\xfe~\\x19\\xc4\\x8a\\xeb\\xf7O\\x10\\xa9\\xff\\x83\\xa8\\xa35\\x16t\\x0e\\xd8\\xac\\x1d\\xdc\\x86\\xfa\\xe45)\\x8e\\x15\\x9eB_\\xd6n\\x96\\xb2\\xf7\\x03zY\\xdc|\\x9d\\x1c'\n",
      "128\n"
     ]
    }
   ],
   "source": [
    "#Sign with private key message to transmit\n",
    "text = b'To be signed'\n",
    "h = SHA256.new(text)\n",
    "signature = pkcs1_15.new(keyPair).sign(h)\n",
    "print(signature)\n",
    "print(len(signature))\n",
    "msg = signature + message"
   ]
  },
  {
   "cell_type": "code",
   "execution_count": 12,
   "metadata": {},
   "outputs": [
    {
     "name": "stdout",
     "output_type": "stream",
     "text": [
      "The signature is valid\n"
     ]
    }
   ],
   "source": [
    "#At reciever end verify signature of recieved message with public key\n",
    "newsignature = msg[:128]\n",
    "newtext = msg[128:]\n",
    "newPubkey = RSA.import_key(pubKeyPEM)\n",
    "h = SHA256.new(newtext)\n",
    "try:\n",
    "    pkcs1_15.new(newPubkey).verify(h, newsignature)\n",
    "    print(\"The signature is valid\")\n",
    "except (ValueError, TypeError):\n",
    "   print(\"The signature is not valid\")"
   ]
  },
  {
   "cell_type": "code",
   "execution_count": null,
   "metadata": {},
   "outputs": [],
   "source": []
  }
 ],
 "metadata": {
  "kernelspec": {
   "display_name": "Python 3",
   "language": "python",
   "name": "python3"
  },
  "language_info": {
   "codemirror_mode": {
    "name": "ipython",
    "version": 3
   },
   "file_extension": ".py",
   "mimetype": "text/x-python",
   "name": "python",
   "nbconvert_exporter": "python",
   "pygments_lexer": "ipython3",
   "version": "3.7.3"
  }
 },
 "nbformat": 4,
 "nbformat_minor": 2
}
