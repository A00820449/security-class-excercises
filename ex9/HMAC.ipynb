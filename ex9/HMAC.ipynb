{
 "cells": [
  {
   "cell_type": "code",
   "execution_count": 1,
   "metadata": {},
   "outputs": [
    {
     "data": {
      "text/plain": [
       "'\\nBy Raul Ramirez Velarde\\nAug 2020\\nFrom multiples sources\\n'"
      ]
     },
     "execution_count": 1,
     "metadata": {},
     "output_type": "execute_result"
    }
   ],
   "source": [
    "\"\"\"\n",
    "By Raul Ramirez Velarde\n",
    "Aug 2020\n",
    "From multiples sources\n",
    "\"\"\""
   ]
  },
  {
   "cell_type": "code",
   "execution_count": 2,
   "metadata": {},
   "outputs": [],
   "source": [
    "#Hash imports\n",
    "from Cryptodome.Hash import HMAC, SHA256\n",
    "\n",
    "#To decode bytstreams into characters\n",
    "from base64 import b64encode"
   ]
  },
  {
   "cell_type": "code",
   "execution_count": 3,
   "metadata": {},
   "outputs": [
    {
     "name": "stdout",
     "output_type": "stream",
     "text": [
      "1141dafd14462dc39a3e1107e41412b3ad2718496679ae3a0f701407dc875f49\n",
      "EUHa/RRGLcOaPhEH5BQSs60nGElmea46D3AUB9yHX0k=\n",
      "digest length 32\n"
     ]
    }
   ],
   "source": [
    "#Password to use to authentica message\n",
    "secret = b'Swordfish'\n",
    "#Message to transmit and authenticate\n",
    "stext = b'Hello'\n",
    "\n",
    "#Create message digest h with password\n",
    "h = HMAC.new(secret, digestmod=SHA256)\n",
    "h.update(stext)\n",
    "smac=h.digest()\n",
    "\n",
    "#Show digest\n",
    "print(h.hexdigest())\n",
    "hd = b64encode(smac).decode('ascii')\n",
    "print(hd)\n",
    "print(\"digest length\",len(h.digest()))\n",
    "msg = smac +  stext"
   ]
  },
  {
   "cell_type": "code",
   "execution_count": 4,
   "metadata": {},
   "outputs": [
    {
     "name": "stdout",
     "output_type": "stream",
     "text": [
      "EUHa/RRGLcOaPhEH5BQSs60nGElmea46D3AUB9yHX0k=\n",
      "b'Hello'\n"
     ]
    }
   ],
   "source": [
    "# We have received a message 'msg' with rtext together\n",
    "# with its MAC 'rmac'\n",
    "rmac = msg[:32]\n",
    "rtext = msg[32:]\n",
    "hd = b64encode(rmac).decode('ascii')\n",
    "print(hd)\n",
    "print(rtext)"
   ]
  },
  {
   "cell_type": "code",
   "execution_count": 5,
   "metadata": {},
   "outputs": [
    {
     "name": "stdout",
     "output_type": "stream",
     "text": [
      "The message 'b'Hello'' is authentic\n"
     ]
    }
   ],
   "source": [
    "#Authentica message using password\n",
    "secret = b'Swordfish'\n",
    "\n",
    "h = HMAC.new(secret, digestmod=SHA256)\n",
    "h.update(rtext)\n",
    "try:\n",
    "  h.verify(rmac)\n",
    "  print(\"The message '%s' is authentic\" % rtext)\n",
    "except ValueError:\n",
    "  print(\"The message or the key is wrong\")"
   ]
  },
  {
   "cell_type": "code",
   "execution_count": null,
   "metadata": {},
   "outputs": [],
   "source": []
  }
 ],
 "metadata": {
  "kernelspec": {
   "display_name": "Python 3.10.7 64-bit",
   "language": "python",
   "name": "python3"
  },
  "language_info": {
   "codemirror_mode": {
    "name": "ipython",
    "version": 3
   },
   "file_extension": ".py",
   "mimetype": "text/x-python",
   "name": "python",
   "nbconvert_exporter": "python",
   "pygments_lexer": "ipython3",
   "version": "3.10.7"
  },
  "vscode": {
   "interpreter": {
    "hash": "e7370f93d1d0cde622a1f8e1c04877d8463912d04d973331ad4851f04de6915a"
   }
  }
 },
 "nbformat": 4,
 "nbformat_minor": 2
}
