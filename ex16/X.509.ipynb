{
 "cells": [
  {
   "cell_type": "code",
   "execution_count": null,
   "metadata": {},
   "outputs": [],
   "source": [
    "\"\"\"\n",
    "By Raul Ramirez Velarde\n",
    "Aug 2020\n",
    "From multiples sources\n",
    "\"\"\""
   ]
  },
  {
   "cell_type": "code",
   "execution_count": 1,
   "metadata": {},
   "outputs": [],
   "source": [
    "#Certificate imports\n",
    "from OpenSSL import crypto, SSL\n",
    "\n",
    "#Create a X.509 certificate\n",
    "#Store it file selfsigned.crt in PEM format\n",
    "#Store private key in file private.key in PEM format\n",
    "emailAddress=\"emailAddress\"\n",
    "commonName=\"commonName\"\n",
    "countryName=\"NT\"\n",
    "localityName=\"localityName\"\n",
    "stateOrProvinceName=\"stateOrProvinceName\"\n",
    "organizationName=\"organizationName\"\n",
    "organizationUnitName=\"organizationUnitName\"\n",
    "serialNumber=0\n",
    "validityStartInSeconds=0\n",
    "validityEndInSeconds=10*365*24*60*60\n",
    "KEY_FILE = \"private.key\"\n",
    "CERT_FILE=\"selfsigned.cer\"\n",
    "\n",
    "k = crypto.PKey()\n",
    "k.generate_key(crypto.TYPE_RSA, 4096)\n",
    "# create a self-signed cert\n",
    "cert = crypto.X509()\n",
    "cert.get_subject().C = countryName\n",
    "cert.get_subject().ST = stateOrProvinceName\n",
    "cert.get_subject().L = localityName\n",
    "cert.get_subject().O = organizationName\n",
    "cert.get_subject().OU = organizationUnitName\n",
    "cert.get_subject().CN = commonName\n",
    "cert.get_subject().emailAddress = emailAddress\n",
    "cert.set_serial_number(serialNumber)\n",
    "cert.gmtime_adj_notBefore(0)\n",
    "cert.gmtime_adj_notAfter(validityEndInSeconds)\n",
    "cert.set_issuer(cert.get_subject())\n",
    "cert.set_pubkey(k)\n",
    "cert.sign(k, 'sha512')\n",
    "with open(CERT_FILE, \"wt\") as f:\n",
    "    f.write(crypto.dump_certificate(crypto.FILETYPE_PEM, cert).decode(\"utf-8\"))\n",
    "with open(KEY_FILE, \"wt\") as f:\n",
    "    f.write(crypto.dump_privatekey(crypto.FILETYPE_PEM, k).decode(\"utf-8\"))"
   ]
  },
  {
   "cell_type": "code",
   "execution_count": 2,
   "metadata": {},
   "outputs": [],
   "source": [
    "#read the certificate in PEM format\n",
    "with open(CERT_FILE, \"rt\") as f:\n",
    "    newcert = f.read()"
   ]
  },
  {
   "cell_type": "code",
   "execution_count": 3,
   "metadata": {},
   "outputs": [],
   "source": [
    "#Import (create) the new certificate\n",
    "cacert = crypto.load_certificate(crypto.FILETYPE_PEM, newcert)"
   ]
  },
  {
   "cell_type": "code",
   "execution_count": 4,
   "metadata": {},
   "outputs": [
    {
     "name": "stdout",
     "output_type": "stream",
     "text": [
      "Public key:  (n=0x9d6b2155fbdfba4124d08225e6b4ac5d84e61252e6c9d8dc8cbe6bc7d7a21197008b6f3bd280cd6769a1c491b3890cb9d0c4399ee3bd064598056b25f33450592c25832ecca489b79f2eed5db2a5ff0a744b8b07234ff174734f076b6d6f66f63c8551f9208c3c5794216c22b0dd5a2ae95f1e67d10f543c6af788f97f22c22f4a403c8b9dee4a216e4f06c8772b8afbd286874f7bfb039c824ee902f83629dc934cb6704df5ffa26434bb9dbc1c65f17b41c7075bd263cc3a35d014f8ba1c17380b453eb9b0366698b55a759959ede8814d158ed87c22f0a8e113db969d6eae6b0bd055aa33f35f6480cdc6e4c56fd42ae75e8441c5a4f4c986a6847ec1f8b6a758008f1257a4708054ca658991d2a488ff4b8f80d139c4d31d4e9edf703da699015919efdb35f37198aad6622e50068e6dfe81f5b2f7725473949ec6f350fb3523c215779d90986b82ea6eaca51aa74936183797f4dc838d11570fec716bcc462b2cd8fa5b8abed452e2c0f22c38dc6a35edb5d0278f401cb7a4bcaa63961914e2023c420cbf559a8058b69a0af3fbf13b3926b6fc71f901be468894f13e734c7d560a4184f497d18e6e2c15f6163e44b8afd991f04c064203647683c3b73c6617cef5ec7ba3d49f76b8ce07537a60f6d71145cf63153626315cf38e653375aa8cb28bb393ebc7bbc9d8cd2a50acf06eaf738d2c6dc8c6e31452ae430ae11b, e=0x10001)\n",
      "-----BEGIN PUBLIC KEY-----\n",
      "MIICIjANBgkqhkiG9w0BAQEFAAOCAg8AMIICCgKCAgEAnWshVfvfukEk0IIl5rSs\n",
      "XYTmElLmydjcjL5rx9eiEZcAi2870oDNZ2mhxJGziQy50MQ5nuO9BkWYBWsl8zRQ\n",
      "WSwlgy7MpIm3ny7tXbKl/wp0S4sHI0/xdHNPB2ttb2b2PIVR+SCMPFeUIWwisN1a\n",
      "KulfHmfRD1Q8aveI+X8iwi9KQDyLne5KIW5PBsh3K4r70oaHT3v7A5yCTukC+DYp\n",
      "3JNMtnBN9f+iZDS7nbwcZfF7QccHW9JjzDo10BT4uhwXOAtFPrmwNmaYtVp1mVnt\n",
      "6IFNFY7YfCLwqOET25adbq5rC9BVqjPzX2SAzcbkxW/UKudehEHFpPTJhqaEfsH4\n",
      "tqdYAI8SV6RwgFTKZYmR0qSI/0uPgNE5xNMdTp7fcD2mmQFZGe/bNfNxmKrWYi5Q\n",
      "Bo5t/oH1svdyVHOUnsbzUPs1I8IVd52QmGuC6m6spRqnSTYYN5f03IONEVcP7HFr\n",
      "zEYrLNj6W4q+1FLiwPIsONxqNe210CePQBy3pLyqY5YZFOICPEIMv1WagFi2mgrz\n",
      "+/E7OSa2/HH5Ab5GiJTxPnNMfVYKQYT0l9GObiwV9hY+RLiv2ZHwTAZCA2R2g8O3\n",
      "PGYXzvXse6PUn3a4zgdTemD21xFFz2MVNiYxXPOOZTN1qoyyi7OT68e7ydjNKlCs\n",
      "8G6vc40sbcjG4xRSrkMK4RsCAwEAAQ==\n",
      "-----END PUBLIC KEY-----\n"
     ]
    }
   ],
   "source": [
    "#Encryption imports\n",
    "from Cryptodome.PublicKey import RSA\n",
    "from Cryptodome.Cipher import PKCS1_OAEP\n",
    "import binascii\n",
    "\n",
    "#We have received the certificate which contains the public key\n",
    "#Importing public key\n",
    "rpubKey = RSA.import_key(newcert)\n",
    "print(f\"Public key:  (n={hex(rpubKey.n)}, e={hex(rpubKey.e)})\")\n",
    "rpubKeyPEM = rpubKey.exportKey()\n",
    "print(rpubKeyPEM.decode('ascii'))"
   ]
  },
  {
   "cell_type": "code",
   "execution_count": 5,
   "metadata": {},
   "outputs": [
    {
     "name": "stdout",
     "output_type": "stream",
     "text": [
      "Subject:  commonName\n",
      "Serial Number:  0\n",
      "Organization name:  organizationName\n",
      "Valid until:  2030-10-14 06:06:12\n"
     ]
    }
   ],
   "source": [
    "#Show certificate info\n",
    "from datetime import datetime\n",
    "print(\"Subject: \",cacert.get_subject().CN)\n",
    "print(\"Serial Number: \",cacert.get_serial_number())\n",
    "print(\"Organization name: \",cacert.get_subject().O )\n",
    "print(\"Valid until: \",datetime.strptime(cacert.get_notAfter().decode('ascii'), '%Y%m%d%H%M%SZ'))"
   ]
  },
  {
   "cell_type": "code",
   "execution_count": null,
   "metadata": {},
   "outputs": [],
   "source": []
  }
 ],
 "metadata": {
  "kernelspec": {
   "display_name": "Python 3",
   "language": "python",
   "name": "python3"
  },
  "language_info": {
   "codemirror_mode": {
    "name": "ipython",
    "version": 3
   },
   "file_extension": ".py",
   "mimetype": "text/x-python",
   "name": "python",
   "nbconvert_exporter": "python",
   "pygments_lexer": "ipython3",
   "version": "3.7.3"
  }
 },
 "nbformat": 4,
 "nbformat_minor": 2
}
