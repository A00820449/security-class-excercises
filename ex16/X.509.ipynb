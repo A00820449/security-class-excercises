{
 "cells": [
  {
   "cell_type": "code",
   "execution_count": 19,
   "metadata": {},
   "outputs": [
    {
     "data": {
      "text/plain": [
       "'\\nBy Raul Ramirez Velarde\\nAug 2020\\nFrom multiples sources\\n'"
      ]
     },
     "execution_count": 19,
     "metadata": {},
     "output_type": "execute_result"
    }
   ],
   "source": [
    "\"\"\"\n",
    "By Raul Ramirez Velarde\n",
    "Aug 2020\n",
    "From multiples sources\n",
    "\"\"\""
   ]
  },
  {
   "cell_type": "code",
   "execution_count": 20,
   "metadata": {},
   "outputs": [],
   "source": [
    "#Certificate imports\n",
    "from OpenSSL import crypto, SSL\n",
    "\n",
    "#Create a X.509 certificate\n",
    "#Store it file selfsigned.crt in PEM format\n",
    "#Store private key in file private.key in PEM format\n",
    "emailAddress=\"a00820449@tec.mx\"\n",
    "commonName=\"Miguel Tornero\"\n",
    "countryName=\"MX\"\n",
    "localityName=\"Monterrey\"\n",
    "stateOrProvinceName=\"Nuevo Leon\"\n",
    "organizationName=\"Tec de Monterrey\"\n",
    "organizationUnitName=\"Team 5\"\n",
    "serialNumber=0\n",
    "validityStartInSeconds=0\n",
    "validityEndInSeconds=10*365*24*60*60\n",
    "KEY_FILE = \"private.pem\"\n",
    "CERT_FILE=\"selfsigned.crt\"\n",
    "\n",
    "k = crypto.PKey()\n",
    "k.generate_key(crypto.TYPE_RSA, 4096)\n",
    "# create a self-signed cert\n",
    "cert = crypto.X509()\n",
    "cert.get_subject().C = countryName\n",
    "cert.get_subject().ST = stateOrProvinceName\n",
    "cert.get_subject().L = localityName\n",
    "cert.get_subject().O = organizationName\n",
    "cert.get_subject().OU = organizationUnitName\n",
    "cert.get_subject().CN = commonName\n",
    "cert.get_subject().emailAddress = emailAddress\n",
    "cert.set_serial_number(serialNumber)\n",
    "cert.gmtime_adj_notBefore(0)\n",
    "cert.gmtime_adj_notAfter(validityEndInSeconds)\n",
    "cert.set_issuer(cert.get_subject())\n",
    "cert.set_pubkey(k)\n",
    "cert.sign(k, 'sha512')\n",
    "with open(CERT_FILE, \"wt\") as f:\n",
    "    f.write(crypto.dump_certificate(crypto.FILETYPE_PEM, cert).decode(\"utf-8\"))\n",
    "with open(KEY_FILE, \"wt\") as f:\n",
    "    f.write(crypto.dump_privatekey(crypto.FILETYPE_PEM, k).decode(\"utf-8\"))"
   ]
  },
  {
   "cell_type": "code",
   "execution_count": 21,
   "metadata": {},
   "outputs": [],
   "source": [
    "#read the certificate in PEM format\n",
    "with open(CERT_FILE, \"rt\") as f:\n",
    "    newcert = f.read()"
   ]
  },
  {
   "cell_type": "code",
   "execution_count": 22,
   "metadata": {},
   "outputs": [],
   "source": [
    "#Import (create) the new certificate\n",
    "cacert = crypto.load_certificate(crypto.FILETYPE_PEM, newcert)"
   ]
  },
  {
   "cell_type": "code",
   "execution_count": 23,
   "metadata": {},
   "outputs": [
    {
     "name": "stdout",
     "output_type": "stream",
     "text": [
      "Public key:  (n=0xa751c660e1786386478462a0b73f32b298b761339a34256de3534beefe78f5c7cbaa586e820737d4db75cde924eaf597cfd9a180d283f590fd6ff82e64b99b986d61cb0a14a3a1cb25b99a5fd05d126037d87b430a8375aab7ba10ec1943aed47435567e22e238e4310bc131736d8682e1b7b8640c17cca2ee1db49fb8585ef3e0770e3585058db5675290731c5c97e10cde938d58a829cd8a3d04a6329af5b3ffb3b796ee1db010de42b1f95fdb6d89bb70f1241dc0ff149e20bd89ac8a06833c9ad20d417e0181aa36b5369e0a8018292d6588d429d05678979e62c99b936c7c00e4001c3187e2dd49180134a0073b06f66a64815e25dacec010fbe90a66ef8f7898517403105e64111fd2edd5412f2d7118017168bf4981e3e09b0cdcf51c91832182206cba513bc38ac6ac2b44ae6a8ab664f5555a51918aeb9496212c8f54542c46afe08206f6d9834064cd6973abf361ded91ca2030ee5e551614910fc6ead3457640ef9f4a12b643a7d7a7b29170ce39b10e35c5748cb045fd0038e5ee0e744366704f47db0955e034b2b1edadc09610a027ebc5f8dbf4a34f7b2fea21181152d7304514add803e2949431f87a643f067cfc1683877ac3a647a39977c43684a994017758599d7d083c4d562804a6ec399926cc79025711fef1eb15bb93d7af975e0501d573e73e219bf3ec192b9452ce4843374f4451b2cb8afb39f2b, e=0x10001)\n",
      "-----BEGIN PUBLIC KEY-----\n",
      "MIICIjANBgkqhkiG9w0BAQEFAAOCAg8AMIICCgKCAgEAp1HGYOF4Y4ZHhGKgtz8y\n",
      "spi3YTOaNCVt41NL7v549cfLqlhuggc31Nt1zekk6vWXz9mhgNKD9ZD9b/guZLmb\n",
      "mG1hywoUo6HLJbmaX9BdEmA32HtDCoN1qre6EOwZQ67UdDVWfiLiOOQxC8Exc22G\n",
      "guG3uGQMF8yi7h20n7hYXvPgdw41hQWNtWdSkHMcXJfhDN6TjVioKc2KPQSmMpr1\n",
      "s/+zt5buHbAQ3kKx+V/bbYm7cPEkHcD/FJ4gvYmsigaDPJrSDUF+AYGqNrU2ngqA\n",
      "GCktZYjUKdBWeJeeYsmbk2x8AOQAHDGH4t1JGAE0oAc7BvZqZIFeJdrOwBD76Qpm\n",
      "7494mFF0AxBeZBEf0u3VQS8tcRgBcWi/SYHj4JsM3PUckYMhgiBsulE7w4rGrCtE\n",
      "rmqKtmT1VVpRkYrrlJYhLI9UVCxGr+CCBvbZg0BkzWlzq/Nh3tkcogMO5eVRYUkQ\n",
      "/G6tNFdkDvn0oStkOn16eykXDOObEONcV0jLBF/QA45e4OdENmcE9H2wlV4DSyse\n",
      "2twJYQoCfrxfjb9KNPey/qIRgRUtcwRRSt2APilJQx+HpkPwZ8/BaDh3rDpkejmX\n",
      "fENoSplAF3WFmdfQg8TVYoBKbsOZkmzHkCVxH+8esVu5PXr5deBQHVc+c+IZvz7B\n",
      "krlFLOSEM3T0RRssuK+znysCAwEAAQ==\n",
      "-----END PUBLIC KEY-----\n"
     ]
    }
   ],
   "source": [
    "#Encryption imports\n",
    "from Cryptodome.PublicKey import RSA\n",
    "from Cryptodome.Cipher import PKCS1_OAEP\n",
    "import binascii\n",
    "\n",
    "#We have received the certificate which contains the public key\n",
    "#Importing public key\n",
    "rpubKey = RSA.import_key(newcert)\n",
    "print(f\"Public key:  (n={hex(rpubKey.n)}, e={hex(rpubKey.e)})\")\n",
    "rpubKeyPEM = rpubKey.exportKey()\n",
    "print(rpubKeyPEM.decode('ascii'))"
   ]
  },
  {
   "cell_type": "code",
   "execution_count": 24,
   "metadata": {},
   "outputs": [
    {
     "name": "stdout",
     "output_type": "stream",
     "text": [
      "Subject:  Miguel Tornero\n",
      "Serial Number:  0\n",
      "Organization name:  Tec de Monterrey\n",
      "Valid until:  2032-10-03 17:57:31\n"
     ]
    }
   ],
   "source": [
    "#Show certificate info\n",
    "from datetime import datetime\n",
    "print(\"Subject: \",cacert.get_subject().CN)\n",
    "print(\"Serial Number: \",cacert.get_serial_number())\n",
    "print(\"Organization name: \",cacert.get_subject().O )\n",
    "print(\"Valid until: \",datetime.strptime(cacert.get_notAfter().decode('ascii'), '%Y%m%d%H%M%SZ'))"
   ]
  },
  {
   "cell_type": "code",
   "execution_count": null,
   "metadata": {},
   "outputs": [],
   "source": []
  }
 ],
 "metadata": {
  "kernelspec": {
   "display_name": "Python 3.10.7 64-bit",
   "language": "python",
   "name": "python3"
  },
  "language_info": {
   "codemirror_mode": {
    "name": "ipython",
    "version": 3
   },
   "file_extension": ".py",
   "mimetype": "text/x-python",
   "name": "python",
   "nbconvert_exporter": "python",
   "pygments_lexer": "ipython3",
   "version": "3.10.7"
  },
  "vscode": {
   "interpreter": {
    "hash": "e7370f93d1d0cde622a1f8e1c04877d8463912d04d973331ad4851f04de6915a"
   }
  }
 },
 "nbformat": 4,
 "nbformat_minor": 2
}
