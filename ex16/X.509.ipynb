{
 "cells": [
  {
   "cell_type": "code",
   "execution_count": 1,
   "metadata": {},
   "outputs": [
    {
     "data": {
      "text/plain": [
       "'\\nMiguel Angel Tornero Carrillo\\nA00820449\\nTeam 5\\n'"
      ]
     },
     "execution_count": 1,
     "metadata": {},
     "output_type": "execute_result"
    }
   ],
   "source": [
    "\"\"\"\n",
    "Miguel Angel Tornero Carrillo\n",
    "A00820449\n",
    "Team 5\n",
    "\"\"\""
   ]
  },
  {
   "cell_type": "code",
   "execution_count": 2,
   "metadata": {},
   "outputs": [],
   "source": [
    "#Certificate imports\n",
    "from OpenSSL import crypto, SSL\n",
    "\n",
    "#Create a X.509 certificate\n",
    "#Store it file selfsigned.crt in PEM format\n",
    "#Store private key in file private.key in PEM format\n",
    "emailAddress=\"a00820449@tec.mx\"\n",
    "commonName=\"Miguel Tornero\"\n",
    "countryName=\"MX\"\n",
    "localityName=\"Monterrey\"\n",
    "stateOrProvinceName=\"Nuevo Leon\"\n",
    "organizationName=\"Tec de Monterrey\"\n",
    "organizationUnitName=\"Team 5\"\n",
    "serialNumber=0\n",
    "validityStartInSeconds=0\n",
    "validityEndInSeconds=10*365*24*60*60\n",
    "KEY_FILE = \"private.pem\"\n",
    "CERT_FILE=\"selfsigned.crt\"\n",
    "\n",
    "k = crypto.PKey()\n",
    "k.generate_key(crypto.TYPE_RSA, 4096)\n",
    "# create a self-signed cert\n",
    "cert = crypto.X509()\n",
    "cert.get_subject().C = countryName\n",
    "cert.get_subject().ST = stateOrProvinceName\n",
    "cert.get_subject().L = localityName\n",
    "cert.get_subject().O = organizationName\n",
    "cert.get_subject().OU = organizationUnitName\n",
    "cert.get_subject().CN = commonName\n",
    "cert.get_subject().emailAddress = emailAddress\n",
    "cert.set_serial_number(serialNumber)\n",
    "cert.gmtime_adj_notBefore(0)\n",
    "cert.gmtime_adj_notAfter(validityEndInSeconds)\n",
    "cert.set_issuer(cert.get_subject())\n",
    "cert.set_pubkey(k)\n",
    "cert.sign(k, 'sha512')\n",
    "with open(CERT_FILE, \"wt\") as f:\n",
    "    f.write(crypto.dump_certificate(crypto.FILETYPE_PEM, cert).decode(\"utf-8\"))\n",
    "with open(KEY_FILE, \"wt\") as f:\n",
    "    f.write(crypto.dump_privatekey(crypto.FILETYPE_PEM, k).decode(\"utf-8\"))"
   ]
  },
  {
   "cell_type": "code",
   "execution_count": 3,
   "metadata": {},
   "outputs": [],
   "source": [
    "#read the certificate in PEM format\n",
    "with open(CERT_FILE, \"rt\") as f:\n",
    "    newcert = f.read()"
   ]
  },
  {
   "cell_type": "code",
   "execution_count": 4,
   "metadata": {},
   "outputs": [],
   "source": [
    "#Import (create) the new certificate\n",
    "cacert = crypto.load_certificate(crypto.FILETYPE_PEM, newcert)"
   ]
  },
  {
   "cell_type": "code",
   "execution_count": 5,
   "metadata": {},
   "outputs": [
    {
     "name": "stdout",
     "output_type": "stream",
     "text": [
      "Public key:  (n=0xc0be84a4428bd4d3df835e0200b873702e0d099bea081d4dc0c55ea5137ada98724e3846ff1350cd1346f52b8f645e89cf89dee025c60b63d78e1a81cbb3b3606e223a2835cf73ab35b3dfb2c5a6fd8ea1c054912672216e974671ebdd31eda478c2d8a3337f69ecf93c58f731b7ed57f1e204c3e3500a34a5b9c2e5cd325de7ac23954ef752b733313aea432602a170e429850b5d90cf4fba6ef22f037f6b525d157f44de6679d321c6a171de6e992641624aeb66a378cd7e9337203e0b6af3c989802655eacb14e4c483f0d903a88a9e1b6907ec3c511d6d1f451edba5b9d02ae3b3f8d04d4f73f4f739c8c4c86d2621d0a3939dc513f6b2b7528891619464b134b1500f7b86e6ad7f82e921932505b9ba4d073beb96ecd8da14afd3985f0f1556d5c98f4e200593d0735a779af203fe94f9d31b2154e73dd0731c43b5aea792c2fbf32374e34e6707bda15583e65c32f111e7b4a79bfb8c35096b391d1512b7cf4b3cb1507e963e86191ace65a7178a9f6974ef97e532b7ea0f1aed10ac1335c7f639fe174c453a72c032ddb7632faed910f5b8a42a498e51fc5c76801e9ceb92b0a7c7e3a916a0db0cc5ce2b59e71b9781ce51a8ebb75a4654a2625f4791fea43d1c33ddddf90964c4584dd804473e375ce1c3697ea15f83756668441b449cb9895686ce41798fc11dc78d0cc349cc16ee0207834b984a063f800e862401, e=0x10001)\n",
      "-----BEGIN PUBLIC KEY-----\n",
      "MIICIjANBgkqhkiG9w0BAQEFAAOCAg8AMIICCgKCAgEAwL6EpEKL1NPfg14CALhz\n",
      "cC4NCZvqCB1NwMVepRN62phyTjhG/xNQzRNG9SuPZF6Jz4ne4CXGC2PXjhqBy7Oz\n",
      "YG4iOig1z3OrNbPfssWm/Y6hwFSRJnIhbpdGcevdMe2keMLYozN/aez5PFj3Mbft\n",
      "V/HiBMPjUAo0pbnC5c0yXeesI5VO91K3MzE66kMmAqFw5CmFC12Qz0+6bvIvA39r\n",
      "Ul0Vf0TeZnnTIcahcd5umSZBYkrrZqN4zX6TNyA+C2rzyYmAJlXqyxTkxIPw2QOo\n",
      "ip4baQfsPFEdbR9FHtuludAq47P40E1Pc/T3OcjEyG0mIdCjk53FE/ayt1KIkWGU\n",
      "ZLE0sVAPe4bmrX+C6SGTJQW5uk0HO+uW7NjaFK/TmF8PFVbVyY9OIAWT0HNad5ry\n",
      "A/6U+dMbIVTnPdBzHEO1rqeSwvvzI3TjTmcHvaFVg+ZcMvER57Snm/uMNQlrOR0V\n",
      "ErfPSzyxUH6WPoYZGs5lpxeKn2l075flMrfqDxrtEKwTNcf2Of4XTEU6csAy3bdj\n",
      "L67ZEPW4pCpJjlH8XHaAHpzrkrCnx+OpFqDbDMXOK1nnG5eBzlGo67daRlSiYl9H\n",
      "kf6kPRwz3d35CWTEWE3YBEc+N1zhw2l+oV+DdWZoRBtEnLmJVobOQXmPwR3HjQzD\n",
      "ScwW7gIHg0uYSgY/gA6GJAECAwEAAQ==\n",
      "-----END PUBLIC KEY-----\n"
     ]
    }
   ],
   "source": [
    "#Encryption imports\n",
    "from Cryptodome.PublicKey import RSA\n",
    "from Cryptodome.Cipher import PKCS1_OAEP\n",
    "import binascii\n",
    "\n",
    "#We have received the certificate which contains the public key\n",
    "#Importing public key\n",
    "rpubKey = RSA.import_key(newcert)\n",
    "print(f\"Public key:  (n={hex(rpubKey.n)}, e={hex(rpubKey.e)})\")\n",
    "rpubKeyPEM = rpubKey.exportKey()\n",
    "print(rpubKeyPEM.decode('ascii'))"
   ]
  },
  {
   "cell_type": "code",
   "execution_count": 6,
   "metadata": {},
   "outputs": [
    {
     "name": "stdout",
     "output_type": "stream",
     "text": [
      "Subject:  Miguel Tornero\n",
      "Serial Number:  0\n",
      "Organization name:  Tec de Monterrey\n",
      "Valid until:  2032-10-04 00:21:36\n"
     ]
    }
   ],
   "source": [
    "#Show certificate info\n",
    "from datetime import datetime\n",
    "print(\"Subject: \",cacert.get_subject().CN)\n",
    "print(\"Serial Number: \",cacert.get_serial_number())\n",
    "print(\"Organization name: \",cacert.get_subject().O )\n",
    "print(\"Valid until: \",datetime.strptime(cacert.get_notAfter().decode('ascii'), '%Y%m%d%H%M%SZ'))"
   ]
  },
  {
   "cell_type": "code",
   "execution_count": null,
   "metadata": {},
   "outputs": [],
   "source": []
  }
 ],
 "metadata": {
  "kernelspec": {
   "display_name": "Python 3 (ipykernel)",
   "language": "python",
   "name": "python3"
  },
  "language_info": {
   "codemirror_mode": {
    "name": "ipython",
    "version": 3
   },
   "file_extension": ".py",
   "mimetype": "text/x-python",
   "name": "python",
   "nbconvert_exporter": "python",
   "pygments_lexer": "ipython3",
   "version": "3.10.7"
  },
  "vscode": {
   "interpreter": {
    "hash": "e7370f93d1d0cde622a1f8e1c04877d8463912d04d973331ad4851f04de6915a"
   }
  }
 },
 "nbformat": 4,
 "nbformat_minor": 2
}
