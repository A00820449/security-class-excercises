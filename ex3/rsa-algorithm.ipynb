{
 "cells": [
  {
   "cell_type": "code",
   "execution_count": 2,
   "id": "4be49c23",
   "metadata": {},
   "outputs": [
    {
     "name": "stdout",
     "output_type": "stream",
     "text": [
      "[104, 101, 108, 108, 111]\n"
     ]
    }
   ],
   "source": [
    "orig=\"NAVIDAD\"\n",
    "orig=\"hello\"\n",
    "c=[ord(c) for c in orig]\n",
    "print(c)"
   ]
  },
  {
   "cell_type": "code",
   "execution_count": 3,
   "id": "28794dcb",
   "metadata": {},
   "outputs": [
    {
     "name": "stdout",
     "output_type": "stream",
     "text": [
      "['h', 'e', 'l', 'l', 'o']\n"
     ]
    }
   ],
   "source": [
    "t=[chr(t) for t in c]\n",
    "print(t)"
   ]
  },
  {
   "cell_type": "code",
   "execution_count": 4,
   "id": "65b48d50",
   "metadata": {},
   "outputs": [
    {
     "data": {
      "text/plain": [
       "[104, 101, 108, 108, 111]"
      ]
     },
     "execution_count": 4,
     "metadata": {},
     "output_type": "execute_result"
    }
   ],
   "source": [
    "list(bytes(b\"hello\"))"
   ]
  },
  {
   "cell_type": "code",
   "execution_count": 5,
   "id": "04b6cee2",
   "metadata": {},
   "outputs": [],
   "source": [
    "q=11\n",
    "p=3\n",
    "n=33\n",
    "e=7\n",
    "d=3\n",
    "#d=23\n",
    "#d=283"
   ]
  },
  {
   "cell_type": "code",
   "execution_count": 6,
   "id": "991d9210",
   "metadata": {},
   "outputs": [],
   "source": [
    "#Calculate Totient\n",
    "fi=(q-1)*(p-1)"
   ]
  },
  {
   "cell_type": "code",
   "execution_count": 7,
   "id": "a00ad809",
   "metadata": {},
   "outputs": [
    {
     "name": "stdout",
     "output_type": "stream",
     "text": [
      "[13, 0, 21, 8, 3, 0, 3]\n"
     ]
    }
   ],
   "source": [
    "#Message and ASCII code. A=0\n",
    "orig=\"NAVIDAD\"\n",
    "code=[(ord(c)-ord('A')) for c in orig]\n",
    "print(code)"
   ]
  },
  {
   "cell_type": "code",
   "execution_count": 8,
   "id": "ce98c147",
   "metadata": {},
   "outputs": [
    {
     "name": "stdout",
     "output_type": "stream",
     "text": [
      "[7, 0, 21, 2, 9, 0, 9]\n"
     ]
    }
   ],
   "source": [
    "#RSA Cipher. Public Key is e,n\n",
    "cipher = list (map(lambda x:(x ** e) %  n, code))\n",
    "print(cipher)"
   ]
  },
  {
   "cell_type": "code",
   "execution_count": 9,
   "id": "3586dfcf",
   "metadata": {},
   "outputs": [
    {
     "name": "stdout",
     "output_type": "stream",
     "text": [
      "[7, 0, 21, 2, 9, 0, 9]\n"
     ]
    }
   ],
   "source": [
    "#RSA Cipher. Public Key is e,n\n",
    "cipher = list (map(lambda x: pow(x,e,n), code))\n",
    "print(cipher)"
   ]
  },
  {
   "cell_type": "code",
   "execution_count": 10,
   "id": "c570bc47",
   "metadata": {},
   "outputs": [
    {
     "name": "stdout",
     "output_type": "stream",
     "text": [
      "[13, 0, 21, 8, 3, 0, 3]\n"
     ]
    }
   ],
   "source": [
    "#RSA Decipher. Private Key is d\n",
    "decipher=list (map(lambda x:(x ** d) %  n, cipher))\n",
    "print(decipher)"
   ]
  },
  {
   "cell_type": "code",
   "execution_count": 11,
   "id": "9b0683cb",
   "metadata": {},
   "outputs": [
    {
     "name": "stdout",
     "output_type": "stream",
     "text": [
      "[13, 0, 21, 8, 3, 0, 3]\n"
     ]
    }
   ],
   "source": [
    "#RSA Decipher. Private Key is d\n",
    "decipher=list (map(lambda x:pow(x,d,n), cipher))\n",
    "print(decipher)"
   ]
  },
  {
   "cell_type": "code",
   "execution_count": 70,
   "id": "f31e2314",
   "metadata": {},
   "outputs": [
    {
     "name": "stdout",
     "output_type": "stream",
     "text": [
      "['N', 'A', 'V', 'I', 'D', 'A', 'D']\n"
     ]
    }
   ],
   "source": [
    "#Recuperate text. A=0\n",
    "text=[(chr(c+ord('A'))) for c in decipher]\n",
    "print(text)"
   ]
  },
  {
   "cell_type": "code",
   "execution_count": 71,
   "id": "41551011",
   "metadata": {},
   "outputs": [
    {
     "name": "stdout",
     "output_type": "stream",
     "text": [
      "[3.0, 23.0, 43.0, 63.0, 83.0, 103.0, 123.0, 143.0, 163.0, 183.0, 203.0, 223.0, 243.0, 263.0, 283.0]\n"
     ]
    }
   ],
   "source": [
    "#Find values of d using Totient\n",
    "k=range(100)\n",
    "possible_d=list (map(lambda x:(x*fi+1)/e, k))\n",
    "possible_d_int=list (filter(lambda x: x.is_integer(),possible_d))\n",
    "print(possible_d_int)"
   ]
  },
  {
   "cell_type": "code",
   "execution_count": 75,
   "id": "0b390fa9",
   "metadata": {},
   "outputs": [
    {
     "name": "stdout",
     "output_type": "stream",
     "text": [
      "[3, 23, 43, 63, 83]\n"
     ]
    }
   ],
   "source": [
    "#Find values of d by trying d*e mod fi = 1\n",
    "all_d=range(100)\n",
    "possible_d_int=list (filter(lambda x: (x*e % fi)==1,all_d))\n",
    "print(possible_d_int)"
   ]
  }
 ],
 "metadata": {
  "kernelspec": {
   "display_name": "Python 3.10.5 64-bit",
   "language": "python",
   "name": "python3"
  },
  "language_info": {
   "codemirror_mode": {
    "name": "ipython",
    "version": 3
   },
   "file_extension": ".py",
   "mimetype": "text/x-python",
   "name": "python",
   "nbconvert_exporter": "python",
   "pygments_lexer": "ipython3",
   "version": "3.10.5"
  },
  "vscode": {
   "interpreter": {
    "hash": "e7370f93d1d0cde622a1f8e1c04877d8463912d04d973331ad4851f04de6915a"
   }
  }
 },
 "nbformat": 4,
 "nbformat_minor": 5
}
